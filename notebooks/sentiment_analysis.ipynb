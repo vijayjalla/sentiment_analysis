{
  "nbformat": 4,
  "nbformat_minor": 0,
  "metadata": {
    "colab": {
      "provenance": []
    },
    "kernelspec": {
      "name": "python3",
      "display_name": "Python 3"
    },
    "language_info": {
      "name": "python"
    }
  },
  "cells": [
    {
      "cell_type": "code",
      "execution_count": null,
      "metadata": {
        "colab": {
          "base_uri": "https://localhost:8080/"
        },
        "id": "iR9QQetVVGld",
        "outputId": "1482ff4c-50c5-4daa-a9df-5bcf79135162"
      },
      "outputs": [
        {
          "output_type": "stream",
          "name": "stdout",
          "text": [
            "First few rows after loading and cleaning:\n",
            "     ID     Platform Sentiment  \\\n",
            "0  2401  Borderlands  Positive   \n",
            "1  2401  Borderlands  Positive   \n",
            "2  2401  Borderlands  Positive   \n",
            "3  2401  Borderlands  Positive   \n",
            "4  2401  Borderlands  Positive   \n",
            "\n",
            "                                                Text  \n",
            "0  im getting on borderlands and i will murder yo...  \n",
            "1  I am coming to the borders and I will kill you...  \n",
            "2  im getting on borderlands and i will kill you ...  \n",
            "3  im coming on borderlands and i will murder you...  \n",
            "4  im getting on borderlands 2 and i will murder ...  \n",
            "First few rows after loading and cleaning:\n",
            "     ID   Platform   Sentiment  \\\n",
            "0  3364   Facebook  Irrelevant   \n",
            "1   352     Amazon     Neutral   \n",
            "2  8312  Microsoft    Negative   \n",
            "3  4371      CS-GO    Negative   \n",
            "4  4433     Google     Neutral   \n",
            "\n",
            "                                                Text  \n",
            "0  I mentioned on Facebook that I was struggling ...  \n",
            "1  BBC News - Amazon boss Jeff Bezos rejects clai...  \n",
            "2  @Microsoft Why do I pay for WORD when it funct...  \n",
            "3  CSGO matchmaking is so full of closet hacking,...  \n",
            "4  Now the President is slapping Americans in the...  \n"
          ]
        },
        {
          "output_type": "stream",
          "name": "stderr",
          "text": [
            "<ipython-input-3-3eddf292fc51>:29: SettingWithCopyWarning: \n",
            "A value is trying to be set on a copy of a slice from a DataFrame.\n",
            "Try using .loc[row_indexer,col_indexer] = value instead\n",
            "\n",
            "See the caveats in the documentation: https://pandas.pydata.org/pandas-docs/stable/user_guide/indexing.html#returning-a-view-versus-a-copy\n",
            "  train_df['Text'] = train_df['Text'].fillna(\"\").astype(str)\n"
          ]
        },
        {
          "output_type": "stream",
          "name": "stdout",
          "text": [
            "\n",
            "Classification Report:\n",
            "               precision    recall  f1-score   support\n",
            "\n",
            "  Irrelevant       0.82      0.73      0.77       172\n",
            "    Negative       0.79      0.88      0.83       266\n",
            "     Neutral       0.86      0.77      0.81       285\n",
            "    Positive       0.80      0.86      0.83       277\n",
            "\n",
            "    accuracy                           0.82      1000\n",
            "   macro avg       0.82      0.81      0.81      1000\n",
            "weighted avg       0.82      0.82      0.82      1000\n",
            "\n",
            "Accuracy Score: 0.816\n"
          ]
        }
      ],
      "source": [
        "# sentiment_model_custom_columns.py\n",
        "\n",
        "import pandas as pd\n",
        "from sklearn.feature_extraction.text import TfidfVectorizer\n",
        "from sklearn.model_selection import train_test_split\n",
        "from sklearn.linear_model import LogisticRegression\n",
        "from sklearn.metrics import classification_report, accuracy_score\n",
        "\n",
        "if __name__ == \"__main__\":\n",
        "    # Update paths to your dataset files\n",
        "    TRAINING_FILE = \"/content/drive/MyDrive/Colab Notebooks/twitter_training.csv\"\n",
        "    VALIDATION_FILE = \"/content/drive/MyDrive/Colab Notebooks/twitter_validation.csv\"\n",
        "\n",
        "\n",
        "    train_df = pd.read_csv(TRAINING_FILE, header=None)\n",
        "        # Assign meaningful column names\n",
        "    train_df.columns = ['ID', 'Platform', 'Sentiment', 'Text']\n",
        "\n",
        "        # Drop rows with missing text\n",
        "    train_df = train_df.dropna(subset=['Text'])\n",
        "    print(\"First few rows after loading and cleaning:\")\n",
        "    print(train_df.head())\n",
        "\n",
        "    val_df = pd.read_csv(VALIDATION_FILE, header=None)\n",
        "        # Assign meaningful column names\n",
        "    val_df.columns = ['ID', 'Platform', 'Sentiment', 'Text']\n",
        "\n",
        "        # Drop rows with missing text\n",
        "    val_df = val_df.dropna(subset=['Text'])\n",
        "    print(\"First few rows after loading and cleaning:\")\n",
        "    print(val_df.head())\n",
        "\n",
        "    classifier, vectorizer = preprocess_and_train(train_df)\n",
        "    X_val = vectorizer.transform(val_df['Text'])\n",
        "    y_val = val_df['Sentiment']\n",
        "\n",
        "    predictions = classifier.predict(X_val)\n",
        "    print(\"\\nClassification Report:\\n\", classification_report(y_val, predictions))\n",
        "    print(\"Accuracy Score:\", accuracy_score(y_val, predictions))\n",
        "\n",
        "def preprocess_and_train(train_df):\n",
        "    \"\"\"\n",
        "    Preprocesses the text data and trains a logistic regression model.\n",
        "\n",
        "    :param train_df: DataFrame containing 'Text' and 'Sentiment' columns for training.\n",
        "    :return: Trained classifier and vectorizer.\n",
        "    \"\"\"\n",
        "    # Handle missing or non-string values\n",
        "    train_df.info()\n",
        "    #train_df['Text'] = train_df['Text'].fillna(\"\").astype(str)\n",
        "\n",
        "    # Check for completely empty or whitespace-only texts\n",
        "    train_df = train_df[train_df['Text'].str.strip() != \"\"]\n",
        "\n",
        "    if train_df.empty:\n",
        "        raise ValueError(\"Training data is empty after preprocessing. Check your dataset.\")\n",
        "\n",
        "    vectorizer = TfidfVectorizer(max_features=5000, stop_words=None)  # Adjust stop_words=None to allow all words\n",
        "    X_train = vectorizer.fit_transform(train_df['Text'])\n",
        "    y_train = train_df['Sentiment']\n",
        "\n",
        "    classifier = LogisticRegression(max_iter=1000)\n",
        "    classifier.fit(X_train, y_train)\n",
        "\n",
        "    return classifier, vectorizer\n"
      ]
    }
  ]
}